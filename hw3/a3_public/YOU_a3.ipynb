{
 "cells": [
  {
   "cell_type": "markdown",
   "metadata": {
    "heading_collapsed": true
   },
   "source": [
    "# A3"
   ]
  },
  {
   "cell_type": "code",
   "execution_count": 2,
   "metadata": {
    "code_folding": [],
    "collapsed": true,
    "hidden": true
   },
   "outputs": [],
   "source": [
    "# Import modules\n",
    "import numpy as np\n",
    "from numpy import array\n",
    "import matplotlib.pylab as plt\n",
    "%matplotlib inline\n",
    "import network as Network\n",
    "from network import OneHot\n",
    "import copy\n",
    "import math"
   ]
  },
  {
   "cell_type": "markdown",
   "metadata": {
    "heading_collapsed": true
   },
   "source": [
    "# Q1: Softmax Gradient"
   ]
  },
  {
   "cell_type": "markdown",
   "metadata": {
    "hidden": true
   },
   "source": [
    "\\begin{align}\n",
    "\\frac{\\partial E}{\\partial z_j} & = \\frac{\\partial}{\\partial z_j}\\left( - \\sum_{k = 1}^{K} t_k \\ln y_k \\right) \\\\\n",
    "& = - \\sum_{k = 1}^{K} t_k \\frac{\\partial}{\\partial z_j} \\ln y_k \\\\\n",
    "& = - \\sum_{k = 1}^{K} \\frac{t_k}{y_k} \\frac{\\partial y_k}{\\partial z_j} \\\\\n",
    "& = - \\sum_{k \\neq j}\\left[ \\frac{t_k}{y_k} \\left(- y_k y_j\\right)\\right]  - \\frac{t_j}{y_j} y_j\\left(1 - y_j\\right)\\\\\n",
    "& = \\sum_{k \\neq j} \\left( t_k y_j \\right)  + t_j \\left(y_j - 1\\right)\\\\\n",
    "& = \\sum_{k = 1}^{K} \\left( t_k y_j \\right)  - t_j \\\\\n",
    "& = y_j - t_j \\\\\n",
    "\\end{align}"
   ]
  },
  {
   "cell_type": "markdown",
   "metadata": {
    "heading_collapsed": true
   },
   "source": [
    "# Q2: Vanishing Gradient"
   ]
  },
  {
   "cell_type": "markdown",
   "metadata": {},
   "source": [
    "## (a) Proof that $\\left| w \\right| \\geq 4$"
   ]
  },
  {
   "cell_type": "markdown",
   "metadata": {},
   "source": [
    "Note that, for $y = \\sigma(x)$:\n",
    "\\begin{align}\n",
    "\\sigma^{\\prime}(x) & = y(1 - y) \\\\\n",
    "& = - (y - \\frac12)^2 + \\frac14 \\\\\n",
    "& \\leq \\frac14\n",
    "\\end{align}\n",
    "\n",
    "Thus, \n",
    "\n",
    "\\begin{align}\n",
    "\\left| w\\sigma^{\\prime}(wh + b)\\right| & = \\left| w \\right| \\left| \\sigma^{\\prime}(wh + b)\\right| \\\\\n",
    "& \\leq \\frac14 \\left| w \\right|\n",
    "\\end{align}\n",
    "\n",
    "Thus $\\left| w\\sigma^{\\prime}(wh + b)\\right| \\geq 1$ implies $\\left| w \\right| \\geq 4$.\n"
   ]
  },
  {
   "cell_type": "markdown",
   "metadata": {},
   "source": [
    "## (b) The Width of Interval"
   ]
  },
  {
   "cell_type": "markdown",
   "metadata": {},
   "source": [
    "Note that\n",
    "\\begin{align}\n",
    "\\sigma^{\\prime}(x) = \\sigma(x) (1 - \\sigma(x))\n",
    "\\end{align}\n",
    "\n",
    "Denote $\\sigma(wh + b) = y$. Thus we first solve the following inequality\n",
    "\n",
    "\\begin{align}\n",
    "\\left| wy(1 - y)\\right| \\geq 1\n",
    "\\end{align}\n",
    "\n",
    "Note that $y \\in (0, 1)$. Thus it is equivalent to the following inequality\n",
    "\n",
    "\\begin{align}\n",
    "y(1 - y) \\geq \\frac{1}{\\left| w \\right|}\n",
    "\\end{align}\n",
    "\n",
    "\n",
    "which is a quadratic inequation, in terms of $y$. Applying formula, y must satisfy\n",
    "\n",
    "\\begin{align}\n",
    "\\frac{1 - \\sqrt{1 - \\frac{4}{\\left| w \\right|}}}{2} \\leq y \\leq \\frac{1 + \\sqrt{1 - \\frac{4}{\\left| w \\right|}}}{2}\n",
    "\\end{align}\n",
    "\n",
    "which means\n",
    "\n",
    "\\begin{align}\n",
    "\\frac{1 - \\sqrt{1 - \\frac{4}{\\left| w \\right|}}}{2} \\leq \\frac{1}{1 + e^{-(wh + b)}} \\leq \\frac{1 + \\sqrt{1 - \\frac{4}{\\left| w \\right|}}}{2}\n",
    "\\end{align}\n",
    "\n",
    "solve the above inequaltion, we get\n",
    "\n",
    "\\begin{align}\n",
    "- b - \\ln\\left[\\frac{\\left| w \\right|}{2} \\left( 1 + \\sqrt{1 - \\frac{4}{\\left| w \\right|}}\\right) - 1\\right] \\leq wh \\leq - b - \\ln\\left[\\frac{\\left| w \\right|}{2} \\left( 1 - \\sqrt{1 - \\frac{4}{\\left| w \\right|}}\\right) - 1\\right]\n",
    "\\end{align}\n",
    "\n",
    "To solve the range of $h$, we need to discuss whether $w$ is positive or negative. But in both case, the width of the interval is\n",
    "\n",
    "\\begin{align}\n",
    "\\frac{1}{\\left| w \\right|}\\left\\{\\ln\\left[\\frac{\\left| w \\right|}{2} \\left( 1 + \\sqrt{1 - \\frac{4}{\\left| w \\right|}}\\right) - 1\\right] - \\ln\\left[\\frac{\\left| w \\right|}{2} \\left( 1 - \\sqrt{1 - \\frac{4}{\\left| w \\right|}}\\right) - 1\\right]\\right\\}\n",
    "\\end{align}\n",
    "\n",
    "Note that\n",
    "\n",
    "\\begin{align}\n",
    "& \\ln\\left[\\frac{\\left| w \\right|}{2} \\left( 1 + \\sqrt{1 - \\frac{4}{\\left| w \\right|}}\\right) - 1\\right] + \\ln\\left[\\frac{\\left| w \\right|}{2} \\left( 1 - \\sqrt{1 - \\frac{4}{\\left| w \\right|}}\\right) - 1\\right] \\\\\n",
    "& = \\ln\\left[\\left(\\frac{\\left| w \\right|}{2} - 1 \\right)^2 - \\left( \\frac{\\left| w \\right|}{2}\\sqrt{1 - \\frac{4}{\\left| w \\right|}}\\right)^2 \\right] \\\\\n",
    "& = \\ln1 \\\\\n",
    "& = 0\n",
    "\\end{align}\n",
    "\n",
    "Thus\n",
    "\n",
    "\\begin{align}\n",
    "& \\ln\\left[\\frac{\\left| w \\right|}{2} \\left( 1 + \\sqrt{1 - \\frac{4}{\\left| w \\right|}}\\right) - 1\\right] - \\ln\\left[\\frac{\\left| w \\right|}{2} \\left( 1 - \\sqrt{1 - \\frac{4}{\\left| w \\right|}}\\right) - 1\\right] \\\\\n",
    "& = 2 \\ln\\left[\\frac{\\left| w \\right|}{2} \\left( 1 + \\sqrt{1 - \\frac{4}{\\left| w \\right|}}\\right) - 1\\right]\n",
    "\\end{align}\n",
    "\n",
    "\n",
    "Thus, the width of the interval is\n",
    "\n",
    "\\begin{align}\n",
    "\\frac{2}{\\left| w \\right|}\\ln\\left[\\frac{\\left| w \\right|}{2} \\left( 1 + \\sqrt{1 - \\frac{4}{\\left| w \\right|}}\\right) - 1\\right]\n",
    "\\end{align}"
   ]
  },
  {
   "cell_type": "markdown",
   "metadata": {},
   "source": [
    "## (c) Plot"
   ]
  },
  {
   "cell_type": "markdown",
   "metadata": {},
   "source": [
    "It is obvious that the width is a even function of $w$. The function is symmetric respect to y-axis.\n",
    "\n",
    "Thus, it is sufficient to show the case of $w \\geq 0$."
   ]
  },
  {
   "cell_type": "code",
   "execution_count": 13,
   "metadata": {
    "hidden": true
   },
   "outputs": [
    {
     "name": "stdout",
     "output_type": "stream",
     "text": [
      "The peak is around w = 6.89\n"
     ]
    },
    {
     "data": {
      "image/png": "[encoded data removed]",
      "text/plain": [
       "<matplotlib.figure.Figure at 0x2999abfa6d8>"
      ]
     },
     "metadata": {},
     "output_type": "display_data"
    }
   ],
   "source": [
    "w = np.arange(4, 10, 0.01)\n",
    "l = 2 / np.fabs(w) * np.log(np.fabs(w) / 2 * (1 + np.sqrt(1 - 4 / np.fabs(w))) - 1)\n",
    "\n",
    "index = np.argmax(l)\n",
    "\n",
    "plt.plot(w, l)\n",
    "plt.plot(w[index], l[index], 'r*')\n",
    "plt.title('The width of interval respect to w (when w > 0)')\n",
    "\n",
    "print('The peak is around w = ' + str(w[index]))\n"
   ]
  },
  {
   "cell_type": "markdown",
   "metadata": {
    "heading_collapsed": true
   },
   "source": [
    "# Q3: Dropout"
   ]
  },
  {
   "cell_type": "markdown",
   "metadata": {
    "heading_collapsed": true,
    "hidden": true
   },
   "source": [
    "## Dataset"
   ]
  },
  {
   "cell_type": "code",
   "execution_count": 77,
   "metadata": {
    "code_folding": [
     0
    ],
    "collapsed": true,
    "hidden": true
   },
   "outputs": [],
   "source": [
    "# Training data\n",
    "train = []\n",
    "train.append([array([-1.]), array([-0.5]), array([0.]), array([0.5]), array([1.])])\n",
    "train.append([array([0.98175791]),\n",
    " array([0.97127121]),\n",
    " array([0.73814758]),\n",
    " array([0.54656204]),\n",
    " array([0.49612656])])\n",
    "\n",
    "# Test data\n",
    "test = []\n",
    "test.append([array([-0.71547508]),\n",
    " array([-0.71525103]),\n",
    " array([0.70006869]),\n",
    " array([0.1352368]),\n",
    " array([0.47569314]),\n",
    " array([-0.81833529]),\n",
    " array([0.12980741]),\n",
    " array([-0.02038187]),\n",
    " array([-0.27138016]),\n",
    " array([-0.34320815]),\n",
    " array([-0.05160956]),\n",
    " array([-0.694832]),\n",
    " array([0.32680181]),\n",
    " array([0.42661502]),\n",
    " array([-0.76748773]),\n",
    " array([0.03846209]),\n",
    " array([0.74080904]),\n",
    " array([-0.91080543]),\n",
    " array([-0.51337746]),\n",
    " array([-0.02761789]),\n",
    " array([0.63746432]),\n",
    " array([0.62230435]),\n",
    " array([0.48760244]),\n",
    " array([0.44593191]),\n",
    " array([-0.6465039]),\n",
    " array([0.78811405]),\n",
    " array([0.0406877]),\n",
    " array([-0.80486387]),\n",
    " array([0.96078017]),\n",
    " array([-0.99481486])])\n",
    "test.append([array([0.87856333]),\n",
    " array([0.9804519]),\n",
    " array([0.43763465]),\n",
    " array([0.62553657]),\n",
    " array([0.55139782]),\n",
    " array([0.97171488]),\n",
    " array([0.69101347]),\n",
    " array([0.70832307]),\n",
    " array([0.66112479]),\n",
    " array([0.97994235]),\n",
    " array([0.72243856]),\n",
    " array([0.87817955]),\n",
    " array([0.68021256]),\n",
    " array([0.6609707]),\n",
    " array([0.87250947]),\n",
    " array([0.64903096]),\n",
    " array([0.50505284]),\n",
    " array([0.72561837]),\n",
    " array([0.88984239]),\n",
    " array([0.79125797]),\n",
    " array([0.58700936]),\n",
    " array([0.49905846]),\n",
    " array([0.62142599]),\n",
    " array([0.61545669]),\n",
    " array([0.7636149]),\n",
    " array([0.3739272]),\n",
    " array([0.74700192]),\n",
    " array([1.06842443]),\n",
    " array([0.58455839]),\n",
    " array([0.98525384])])"
   ]
  },
  {
   "cell_type": "markdown",
   "metadata": {
    "heading_collapsed": true,
    "hidden": true
   },
   "source": [
    "## Extend the Network class"
   ]
  },
  {
   "cell_type": "code",
   "execution_count": 107,
   "metadata": {
    "hidden": true
   },
   "outputs": [],
   "source": [
    "from IPython.display import display\n",
    "from ipywidgets import FloatProgress  \n",
    "\n",
    "class RobustNetwork(Network.Network):\n",
    "    def FeedForward(self, x, dropout=False):\n",
    "        '''\n",
    "            y = net.FeedForward(x, dropout=False)\n",
    "\n",
    "            Runs the network forward, starting with x as input.\n",
    "            However, a random half of the hidden nodes are set to 0 activity.\n",
    "            Returns the activity of the output layer.\n",
    "\n",
    "            Note: The activation function used for hidden layers depends\n",
    "            on what self.Activation is set to. And the activation function for\n",
    "            the output layer depends on what self.OutputActivation is set to.\n",
    "        '''\n",
    "        \n",
    "        ### YOUR CODE HERE\n",
    "        self.h[0] = x\n",
    "        \n",
    "        for l in range(1, self.n_layers):\n",
    "\n",
    "            if l > 1 and dropout == True:\n",
    "                z = np.dot(self.W[l - 1], self.h[l - 1] * (np.random.rand(self.h[l - 1].shape[0]) > 0.5)) + self.b[l]\n",
    "            else:\n",
    "                z = np.dot(self.W[l - 1], self.h[l - 1]) + self.b[l]\n",
    "            \n",
    "            if l < self.n_layers - 1:\n",
    "                self.h[l] = self.Activation(z)\n",
    "            else:\n",
    "                self.h[l] = self.OutputActivation(z)\n",
    "                \n",
    "        return self.h[-1]\n",
    "\n"
   ]
  },
  {
   "cell_type": "markdown",
   "metadata": {
    "heading_collapsed": true,
    "hidden": true
   },
   "source": [
    "## Create the Network"
   ]
  },
  {
   "cell_type": "code",
   "execution_count": 108,
   "metadata": {
    "hidden": true
   },
   "outputs": [],
   "source": [
    "original_net = RobustNetwork([1, 20, 20, 20, 1], type = 'regression')\n",
    "\n",
    "robust_net = copy.deepcopy(original_net)"
   ]
  },
  {
   "cell_type": "markdown",
   "metadata": {
    "heading_collapsed": true,
    "hidden": true
   },
   "source": [
    "## (c) Train and Evaluate without dropout"
   ]
  },
  {
   "cell_type": "code",
   "execution_count": 109,
   "metadata": {
    "hidden": true
   },
   "outputs": [
    {
     "data": {
      "application/vnd.jupyter.widget-view+json": {
       "model_id": "fe250d1b67554114abf107b1d6043e9a",
       "version_major": 2,
       "version_minor": 0
      },
      "text/plain": [
       "A Jupyter Widget"
      ]
     },
     "metadata": {},
     "output_type": "display_data"
    },
    {
     "name": "stdout",
     "output_type": "stream",
     "text": [
      "Training MSE = 0.000711983816905\n",
      "Test MSE = 0.004831810385\n"
     ]
    }
   ],
   "source": [
    "original_net.Learn(train, epochs = 3000, lrate = 0.0005, dropout = False, progress = True)\n",
    "\n",
    "print('Training MSE = ' + str(original_net.Evaluate(train)))\n",
    "print('Test MSE = ' + str(original_net.Evaluate(test)))"
   ]
  },
  {
   "cell_type": "markdown",
   "metadata": {
    "heading_collapsed": true,
    "hidden": true
   },
   "source": [
    "## (d) Train and Evaluate with dropout"
   ]
  },
  {
   "cell_type": "code",
   "execution_count": 112,
   "metadata": {
    "hidden": true
   },
   "outputs": [
    {
     "data": {
      "application/vnd.jupyter.widget-view+json": {
       "model_id": "7d0e121e5b67469fb7e67f19a5520c16",
       "version_major": 2,
       "version_minor": 0
      },
      "text/plain": [
       "A Jupyter Widget"
      ]
     },
     "metadata": {},
     "output_type": "display_data"
    },
    {
     "name": "stdout",
     "output_type": "stream",
     "text": [
      "Training MSE = 0.044382631298\n",
      "Test MSE = 0.0633788400931\n"
     ]
    }
   ],
   "source": [
    "robust_net.Learn(train, epochs = 3000, lrate = 0.0005, dropout = True, progress = True)\n",
    "\n",
    "print('Training MSE = ' + str(robust_net.Evaluate(train)))\n",
    "print('Test MSE = ' + str(robust_net.Evaluate(test)))"
   ]
  },
  {
   "cell_type": "markdown",
   "metadata": {
    "heading_collapsed": true,
    "hidden": true
   },
   "source": [
    "## (e) Plot training data and models"
   ]
  },
  {
   "cell_type": "code",
   "execution_count": 114,
   "metadata": {
    "hidden": true
   },
   "outputs": [
    {
     "data": {
      "image/png": "[encoded data removed]",
      "text/plain": [
       "<matplotlib.figure.Figure at 0x2999b172c18>"
      ]
     },
     "metadata": {},
     "output_type": "display_data"
    }
   ],
   "source": [
    "# The calculate the line of each model\n",
    "s = np.linspace(-1, 1, 200)\n",
    "original = [original_net.FeedForward([x]) for x in s]\n",
    "robust = [robust_net.FeedForward([x]) for x in s]\n",
    "\n",
    "\n",
    "# Plot the training data,\n",
    "# as well as out model and the true model\n",
    "plt.plot(s, original, 'b--')\n",
    "plt.plot(s, robust, 'r--')\n",
    "\n",
    "plt.plot(train[0], train[1], 'bo')\n",
    "plt.plot(test[0], test[1], 'y.')\n",
    "\n",
    "plt.xlabel('Input')\n",
    "plt.ylabel('Output');"
   ]
  },
  {
   "cell_type": "markdown",
   "metadata": {
    "heading_collapsed": true
   },
   "source": [
    "# Q4: Deep Networks"
   ]
  },
  {
   "cell_type": "markdown",
   "metadata": {
    "heading_collapsed": true,
    "hidden": true
   },
   "source": [
    "## Create and interesting dataset"
   ]
  },
  {
   "cell_type": "code",
   "execution_count": 81,
   "metadata": {
    "code_folding": [],
    "collapsed": true,
    "hidden": true
   },
   "outputs": [],
   "source": [
    "# Three classes\n",
    "# Training set\n",
    "n_samples1 = 200\n",
    "rho0 = 0.; sigma0 = 0.2\n",
    "rho1 = 0.5; sigma1 = 0.1\n",
    "rho2 = 0.9; sigma2 = 0.15\n",
    "training_input = []\n",
    "training_output = []\n",
    "for n in range(n_samples1):\n",
    "    rho = np.random.normal()*sigma0 + rho0\n",
    "    theta = np.random.rand()*2.*np.pi\n",
    "    x = rho*np.cos(theta)\n",
    "    y = rho*np.sin(theta)\n",
    "    training_input.append(np.array([x,y]))\n",
    "    training_output.append(np.array([1,0.,0]))\n",
    "\n",
    "n_samples2 = 200\n",
    "for n in range(n_samples2):\n",
    "    rho = np.random.normal()*sigma1 + rho1\n",
    "    theta = np.random.rand()*2.*np.pi\n",
    "    x = rho*np.cos(theta)\n",
    "    y = rho*np.sin(theta)\n",
    "    training_input.append(np.array([x,y]))\n",
    "    training_output.append(np.array([0.,1,0]))\n",
    "\n",
    "n_samples3 = 200\n",
    "for n in range(n_samples3):\n",
    "    rho = np.random.normal()*sigma2 + rho2\n",
    "    theta = np.random.rand()*2.*np.pi\n",
    "    x = rho*np.cos(theta)\n",
    "    y = rho*np.sin(theta)\n",
    "    training_input.append(np.array([x,y]))\n",
    "    training_output.append(np.array([0.,0,1]))\n",
    "\n",
    "train = [np.array(training_input), np.array(training_output)]\n",
    "\n",
    "# Test set\n",
    "test_input = []\n",
    "test_output = []\n",
    "for n in range(n_samples1):\n",
    "    rho = np.random.normal()*sigma0 + rho0\n",
    "    theta = np.random.rand()*2.*np.pi\n",
    "    x = rho*np.cos(theta)\n",
    "    y = rho*np.sin(theta)\n",
    "    test_input.append(np.array([x,y]))\n",
    "    test_output.append(np.array([1,0.,0]))\n",
    "\n",
    "for n in range(n_samples2):\n",
    "    rho = np.random.normal()*sigma1 + rho1\n",
    "    theta = np.random.rand()*2.*np.pi\n",
    "    x = rho*np.cos(theta)\n",
    "    y = rho*np.sin(theta)\n",
    "    test_input.append(np.array([x,y]))\n",
    "    test_output.append(np.array([0.,1,0]))\n",
    "\n",
    "for n in range(n_samples3):\n",
    "    rho = np.random.normal()*sigma2 + rho2\n",
    "    theta = np.random.rand()*2.*np.pi\n",
    "    x = rho*np.cos(theta)\n",
    "    y = rho*np.sin(theta)\n",
    "    test_input.append(np.array([x,y]))\n",
    "    test_output.append(np.array([0.,0,1]))\n",
    "\n",
    "test = [np.array(test_input), np.array(test_output)]"
   ]
  },
  {
   "cell_type": "code",
   "execution_count": 82,
   "metadata": {
    "hidden": true,
    "scrolled": true
   },
   "outputs": [
    {
     "data": {
      "image/png": "[encoded data removed]",
      "text/plain": [
       "<matplotlib.figure.Figure at 0x2960f3c42e8>"
      ]
     },
     "metadata": {},
     "output_type": "display_data"
    }
   ],
   "source": [
    "end1 = n_samples1\n",
    "end2 = n_samples1+n_samples2\n",
    "plt.figure(figsize=[5,5])\n",
    "plt.plot(train[0][:end1,0], train[0][:end1,1], 'b.')\n",
    "plt.plot(train[0][end1:end2,0], train[0][end1:end2,1], 'r.');\n",
    "plt.plot(train[0][end2:,0], train[0][end2:,1], 'y.')\n",
    "plt.axis('equal');"
   ]
  },
  {
   "cell_type": "markdown",
   "metadata": {
    "heading_collapsed": true,
    "hidden": true
   },
   "source": [
    "## (a) Create and Evaluate a Neural Network"
   ]
  },
  {
   "cell_type": "code",
   "execution_count": 83,
   "metadata": {
    "collapsed": true,
    "hidden": true
   },
   "outputs": [],
   "source": [
    "net = Network.Network([2, 30, 10, 3], type='classifier')"
   ]
  },
  {
   "cell_type": "markdown",
   "metadata": {
    "heading_collapsed": true,
    "hidden": true
   },
   "source": [
    "## (b) Train the network"
   ]
  },
  {
   "cell_type": "code",
   "execution_count": 84,
   "metadata": {
    "hidden": true
   },
   "outputs": [
    {
     "data": {
      "application/vnd.jupyter.widget-view+json": {
       "model_id": "b5360dba63a446e8a0271abd62f15343",
       "version_major": 2,
       "version_minor": 0
      },
      "text/plain": [
       "A Jupyter Widget"
      ]
     },
     "metadata": {},
     "output_type": "display_data"
    }
   ],
   "source": [
    "progress = net.SGD(train, epochs=500, lrate=0.5)"
   ]
  },
  {
   "cell_type": "markdown",
   "metadata": {
    "heading_collapsed": true,
    "hidden": true
   },
   "source": [
    "## (c) Evaluate trained network"
   ]
  },
  {
   "cell_type": "code",
   "execution_count": 85,
   "metadata": {
    "hidden": true
   },
   "outputs": [
    {
     "name": "stdout",
     "output_type": "stream",
     "text": [
      "Training Accuracy = 91.66666666666666%\n",
      "Test Accuracy = 90.33333333333333%\n"
     ]
    }
   ],
   "source": [
    "#print('Cross Entropy = ' + str(net.Evaluate(train)))\n",
    "print('Training Accuracy = ' + str(net.ClassificationAccuracy(train) * 100.) + '%')\n",
    "\n",
    "#print('Cross Entropy = ' + str(net.Evaluate(test)))\n",
    "print('Test Accuracy = ' + str(net.ClassificationAccuracy(test) * 100.) + '%')\n"
   ]
  },
  {
   "cell_type": "markdown",
   "metadata": {
    "heading_collapsed": true,
    "hidden": true
   },
   "source": [
    "## (d) Plot classification results"
   ]
  },
  {
   "cell_type": "code",
   "execution_count": 86,
   "metadata": {
    "hidden": true
   },
   "outputs": [
    {
     "data": {
      "text/plain": [
       "Text(0.5,1,'Classification Results on Test Data')"
      ]
     },
     "execution_count": 86,
     "metadata": {},
     "output_type": "execute_result"
    },
    {
     "data": {
      "image/png": "[encoded data removed]",
      "text/plain": [
       "<matplotlib.figure.Figure at 0x2960f0e0978>"
      ]
     },
     "metadata": {},
     "output_type": "display_data"
    },
    {
     "data": {
      "image/png": "[encoded data removed]",
      "text/plain": [
       "<matplotlib.figure.Figure at 0x2960f0e0a90>"
      ]
     },
     "metadata": {},
     "output_type": "display_data"
    }
   ],
   "source": [
    "plt.figure(figsize=[5,5])\n",
    "\n",
    "for x, t in zip(train[0], train[1]):\n",
    "    y = net.FeedForward(x)\n",
    "    yb = OneHot(y)\n",
    "    if yb[0] == 1:\n",
    "        plt.plot(x[0], x[1], 'b.')\n",
    "    elif yb[1] == 1:\n",
    "        plt.plot(x[0], x[1], 'r.')\n",
    "    elif yb[2] == 1:\n",
    "        plt.plot(x[0], x[1], 'y.')\n",
    "    \n",
    "plt.axis('equal');\n",
    "plt.title('Classification Results on Training Data')\n",
    "\n",
    "\n",
    "plt.figure(figsize=[5,5])\n",
    "\n",
    "for x, t in zip(test[0], test[1]):\n",
    "    y = net.FeedForward(x)\n",
    "    yb = OneHot(y)\n",
    "    if yb[0] == 1:\n",
    "        plt.plot(x[0], x[1], 'b.')\n",
    "    elif yb[1] == 1:\n",
    "        plt.plot(x[0], x[1], 'r.')\n",
    "    elif yb[2] == 1:\n",
    "        plt.plot(x[0], x[1], 'y.')\n",
    "    \n",
    "plt.axis('equal');\n",
    "plt.title('Classification Results on Test Data')\n"
   ]
  },
  {
   "cell_type": "code",
   "execution_count": null,
   "metadata": {
    "collapsed": true
   },
   "outputs": [],
   "source": []
  }
 ],
 "metadata": {
  "kernelspec": {
   "display_name": "Python 3",
   "language": "python",
   "name": "python3"
  },
  "language_info": {
   "codemirror_mode": {
    "name": "ipython",
    "version": 3
   },
   "file_extension": ".py",
   "mimetype": "text/x-python",
   "name": "python",
   "nbconvert_exporter": "python",
   "pygments_lexer": "ipython3",
   "version": "3.6.3"
  }
 },
 "nbformat": 4,
 "nbformat_minor": 2
}

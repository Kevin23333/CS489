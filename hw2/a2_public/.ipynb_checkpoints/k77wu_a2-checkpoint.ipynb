{
 "cells": [
  {
   "cell_type": "markdown",
   "metadata": {},
   "source": [
    "# A2 v2.1"
   ]
  },
  {
   "cell_type": "code",
   "execution_count": 1,
   "metadata": {
    "code_folding": [
     0
    ],
    "collapsed": true
   },
   "outputs": [],
   "source": [
    "# Standard imports\n",
    "import numpy as np\n",
    "import matplotlib.pylab as plt\n",
    "%matplotlib inline\n",
    "import importlib"
   ]
  },
  {
   "cell_type": "markdown",
   "metadata": {
    "heading_collapsed": true
   },
   "source": [
    "# Q1: Logistic Function"
   ]
  },
  {
   "cell_type": "markdown",
   "metadata": {
    "hidden": true
   },
   "source": [
    "\\begin{align}\n",
    "\\frac{d\\sigma(z)}{dz} &= \\frac{1}{(1 + e^{-z})^2} \\cdot \\frac{d(1 + e^{-z})}{dz}\\\\\n",
    "&= \\frac{1}{(1 + e^{-z})^2} \\cdot e^{-z} \\cdot (-1)\\\\\n",
    "&= \\frac{1}{1 + e^{-z}} \\cdot \\frac{-e^{-z}}{1 + e^{-z}}\\\\\n",
    "&= \\frac{1}{1 + e^{-z}} \\cdot (1 - \\frac{1}{1 + e^{-z}})\\\\\n",
    "&= \\sigma(z)(1 - \\sigma(z))\n",
    "\\end{align}\n",
    "\n"
   ]
  },
  {
   "cell_type": "markdown",
   "metadata": {
    "hidden": true
   },
   "source": [
    "To help you with $\\LaTeX$, and to show you my expectations, here is a sample taken from the lecture notes, taken from the 3rd and 4th page of the notes entitled \"Error Backpropagation\". It has nothing to do with the solution to this question, but just demonstrates some of the features of $\\LaTeX$. Notice how I include English statments to guide the reader through the derivation.\n",
    "\n",
    "<a target=_new href=\"http://detexify.kirelabs.org/classify.html\">This web page</a> is very handy for identifying $\\LaTeX$ symbols.\n",
    "\n",
    "---\n",
    "More generally, for $\\vec{x} \\in \\mathbb{R}^X$, $\\vec{h} \\in \\mathbb{R}^H$, and $\\vec{y} \\in \\mathbb{R}^Y$.\n",
    "$$\n",
    "\\begin{align}\n",
    "\\frac{\\partial E}{\\partial \\alpha_i}\n",
    "  &= \\frac{d h_i}{d \\alpha_i} \\\\\n",
    "  &= \\frac{d h_i}{d \\alpha_i}\n",
    "  \\left[ M_{1i} \\ \\cdots \\ M_{Yi} \\right] \\cdot\n",
    "  \\left[ \\frac{\\partial E}{\\partial \\beta_1} \\ \\cdots \\ \\frac{\\partial E}{\\partial \\beta_Y} \\right] \\\\\n",
    "  &= \\frac{d h_i}{d \\alpha_i}\n",
    "   \\left[ M_{1i} \\ \\cdots \\ M_{Yi} \\right]\n",
    "   \\left[ \\begin{array}{c}\n",
    "     \\frac{\\partial E}{\\partial \\beta_1} \\\\\n",
    "     \\vdots \\\\\n",
    "     \\frac{\\partial E}{\\partial \\beta_Y} \\end{array} \\right]\n",
    "\\end{align}\n",
    "$$\n",
    "Thus, for all elements,\n",
    "$$\n",
    "\\begin{align}\n",
    "\\left[ \\begin{array}{c}\n",
    "  \\frac{\\partial E}{\\partial \\alpha_1} \\\\\n",
    "  \\vdots \\\\\n",
    "  \\frac{\\partial E}{\\partial \\alpha_H}\n",
    "\\end{array} \\right] &=\n",
    "%\n",
    "\\left[ \\begin{array}{c}\n",
    "  \\frac{d h_1}{d \\alpha_1} \\\\\n",
    "  \\vdots \\\\\n",
    "  \\frac{d h_H}{d \\alpha_H}\n",
    "\\end{array} \\right]\n",
    "\\odot\n",
    "\\left[ \\begin{array}{ccc}\n",
    "  M_{11} & \\cdots & M_{Y1} \\\\\n",
    "  \\vdots & \\ddots & \\vdots \\\\\n",
    "  M_{1H} & \\cdots & M_{YH}\n",
    "\\end{array} \\right]\n",
    "%\n",
    "\\left[ \\begin{array}{c}\n",
    "  \\frac{\\partial E}{\\partial \\beta_1} \\\\\n",
    "  \\vdots \\\\\n",
    "  \\frac{\\partial E}{\\partial \\beta_Y}\n",
    "\\end{array} \\right] \\\\\n",
    "%\n",
    "\\frac{\\partial E}{\\partial \\vec{\\alpha}} &=\n",
    "\\frac{d \\vec{h}}{d \\vec{\\alpha}} \\odot M^\\mathrm{T}\n",
    "\\frac{\\partial E}{\\partial \\vec{\\beta}}\n",
    "\\end{align}\n",
    "$$\n",
    "\n"
   ]
  },
  {
   "cell_type": "markdown",
   "metadata": {
    "heading_collapsed": true
   },
   "source": [
    "# Q2: Multiclass Contrast Entropy"
   ]
  },
  {
   "cell_type": "markdown",
   "metadata": {
    "hidden": true
   },
   "source": [
    "The likelihood of $(\\vec{x}^{(i)}, \\vec{t}^{(i)})$ is\n",
    "\\begin{align}\n",
    "l(\\theta) &= \\prod_{k = 1}^{K}Pr\\left(\\vec{x}^{(i)} \\in C_k\\big | \\theta\\right)\\\\\n",
    "&= \\prod_{k = 1}^{K}\\left(y_k^{(i)}\\right)^{t_k^{(i)}}\\left(1 - y_k^{(i)}\\right)^{\\left(1 - t_k^{(i)}\\right)}\n",
    "\\end{align}\n",
    "\n",
    "Take log on both sides, then we gets the log-likelihood\n",
    "\\begin{equation}\n",
    "ll(\\theta) = \\sum_{k = 1}^{K}\\left[t_k^{(i)}lny_k^{(i)} + \\left(1 - t_k^{(i)}\\right)ln\\left(1 - y_k^{(i)}\\right)\\right]\n",
    "\\end{equation}\n",
    "\n",
    "Thus, the negative log-likelihood is\n",
    "\\begin{equation}\n",
    "-\\sum_{k = 1}^{K}\\left[t_k^{(i)}lny_k^{(i)} + \\left(1 - t_k^{(i)}\\right)ln\\left(1 - y_k^{(i)}\\right)\\right]\n",
    "\\end{equation}\n"
   ]
  },
  {
   "cell_type": "markdown",
   "metadata": {
    "heading_collapsed": true
   },
   "source": [
    "# Q3: Top-Layer Error Gradients"
   ]
  },
  {
   "cell_type": "markdown",
   "metadata": {
    "hidden": true
   },
   "source": [
    "\\begin{align}\n",
    "\\frac{\\partial E}{\\partial z} &= \\frac{\\partial}{\\partial z}\\left[- \\sum_{k = 1}^{Y} t_klny_k + (1 - t_k)ln(1 - y_k)\\right]\\\\\n",
    "&= -\\sum_{k = 1}^{Y}\\left[t_k\\frac{\\partial}{\\partial z}lny_k + (1 - t_k)\\frac{\\partial}{\\partial z}(1 - y_k)\\right]\\\\\n",
    "&= -\\sum_{k = 1}^{Y}\\left[\\frac{t_k}{y_k}\\frac{\\partial y_k}{\\partial z} - \\frac{1 - t_k}{1 - y_k}\\frac{\\partial y_k}{\\partial z}\\right]\\\\\n",
    "&= \\sum_{k = 1}^{Y}\\left[\\frac{y_k - t_k}{y_k(1 - y_k)}\\frac{\\partial y_k}{\\partial z}\\right]\\\\\n",
    "&= \\sum_{k = 1}^{Y}\\frac{y_k - t_k}{y_k(1 - y_k)}\\left[\\begin{matrix}\\vdots\\\\ \\sigma(z_k)(1 - \\sigma(z_k))\\\\ \\vdots\\end{matrix}\\right]\\\\\n",
    "&= \\sum_{k = 1}^{Y}\\left[\\begin{matrix}\\vdots\\\\  y_k - t_k\\\\ \\vdots\\end{matrix}\\right]\\\\\n",
    "&= y - t\n",
    "\\end{align}\n",
    "\n",
    "\\begin{align}\n",
    "\\frac{\\partial E}{\\partial z} &= \\frac{\\partial}{\\partial z}\\sum_{k = 1}^{Y} (y_k - t_k)^2\\\\\n",
    "&= 2\\sum_{k = 1}^{Y}(y_k - t_k) \\frac{\\partial y_k}{\\partial z}\\\\\n",
    "&= 2\\sum_{k = 1}^{Y}(y_k - t_k)\\left[\\begin{matrix}\\vdots\\\\ 1\\\\ \\vdots\\end{matrix}\\right]\\\\\n",
    "&= 2\\sum_{k = 1}^{Y}\\left[\\begin{matrix}\\vdots\\\\ (y_k - t_k)\\\\ \\vdots\\end{matrix}\\right]\\\\\n",
    "&= 2(y - t)\n",
    "\\end{align}"
   ]
  },
  {
   "cell_type": "markdown",
   "metadata": {
    "collapsed": true,
    "heading_collapsed": true
   },
   "source": [
    "# Q4: Implementing Backprop"
   ]
  },
  {
   "cell_type": "code",
   "execution_count": 2,
   "metadata": {
    "collapsed": true,
    "hidden": true
   },
   "outputs": [],
   "source": [
    "# Supplied functions\n",
    "import numpy as np\n",
    "from IPython.display import display\n",
    "from ipywidgets import FloatProgress  \n",
    "import time\n",
    "\n",
    "def Logistic(z):\n",
    "    return 1. / (1 + np.exp(-z) )\n",
    "\n",
    "def Identity(z):\n",
    "    return z\n",
    "\n",
    "def OneHot(z):\n",
    "    y = np.zeros(np.shape(z))\n",
    "    y[np.argmax(z)] = 1.\n",
    "    return y"
   ]
  },
  {
   "cell_type": "code",
   "execution_count": 68,
   "metadata": {
    "code_folding": [
     2,
     51,
     68,
     69,
     86,
     143,
     151
    ],
    "collapsed": true,
    "hidden": true
   },
   "outputs": [],
   "source": [
    "class Network():\n",
    "\n",
    "    def __init__(self, sizes, type='classifier'):\n",
    "        '''\n",
    "            net = Network.Network(sizes, type='classifier')\n",
    "\n",
    "            Creates a Network and saves it in the variable 'net'.\n",
    "\n",
    "            Inputs\n",
    "              sizes is a list of integers specifying the number\n",
    "                  of nodes in each layer\n",
    "                  eg. [5, 20, 3] will create a 3-layer network\n",
    "                      with 5 input, 20 hidden, and 3 output nodes\n",
    "              type can be either 'classifier' or 'regression', and\n",
    "                  sets the activation function on the output layer,\n",
    "                  as well as the loss function.\n",
    "                  'classifier': logistic, cross entropy\n",
    "                  'regression': linear, mean squared error\n",
    "        '''\n",
    "        self.n_layers = len(sizes)\n",
    "        self.N = sizes   # array of number of nodes per layer\n",
    "        self.h = []      # node activities, one array per layer\n",
    "        self.z = []      # input current, one array per layer\n",
    "        self.b = []      # biases, one array per layer\n",
    "        self.W = []      # Weight matrices, indexed by the layer below it\n",
    "        self.dEdb = []   # Gradient of loss w.r.t. biases\n",
    "        self.dEdW = []   # Gradient of loss w.r.t. weights\n",
    "        for n in self.N:\n",
    "            self.h.append(np.zeros(n))\n",
    "            self.z.append(np.zeros(n))\n",
    "            self.dEdb.append(np.zeros(n))\n",
    "            self.b.append(np.random.normal(size=n)/np.sqrt(n))\n",
    "        for k in range(len(self.N)-1):\n",
    "            self.W.append(np.random.normal(size=[self.N[k+1], self.N[k]])/np.sqrt(self.N[k]))\n",
    "            self.dEdW.append(np.zeros([self.N[k+1], self.N[k]]))\n",
    "\n",
    "        # Two common types of networks\n",
    "        # The member variable self.Loss refers to one of the implemented\n",
    "        # loss functions: MSE, or CrossEntropy.\n",
    "        # Call it using self.Loss(t)\n",
    "        self.Activation = Logistic\n",
    "        if type=='classifier':\n",
    "            self.classifier = True\n",
    "            self.Loss = self.CrossEntropy\n",
    "            self.OutputActivation = Logistic\n",
    "        else:\n",
    "            self.classifier = False\n",
    "            self.Loss = self.MSE\n",
    "            self.OutputActivation = Identity\n",
    "\n",
    "    def FeedForward(self, x):\n",
    "        '''\n",
    "            y = net.FeedForward(x)\n",
    "\n",
    "            Runs the network forward, starting with x as input.\n",
    "            Returns the activity of the output layer.\n",
    "\n",
    "            All node use \n",
    "            Note: The activation function used for the output layer\n",
    "            depends on what self.Loss is set to.\n",
    "        '''\n",
    "        self.h[0] = x # set input layer\n",
    "\n",
    "        # == YOUR CODE HERE ==\n",
    "        \n",
    "        \n",
    "        for k in range(1, self.n_layers - 1):\n",
    "            self.z[k] = np.dot(self.W[k - 1], self.h[k - 1]) + self.b[k]\n",
    "            self.h[k] = Logistic(self.z[k])\n",
    "        \n",
    "        self.z[self.n_layers - 1] = np.dot(self.W[self.n_layers - 2], self.h[self.n_layers - 2]) + self.b[self.n_layers - 1]\n",
    "        self.h[self.n_layers - 1] = self.OutputActivation(self.z[self.n_layers - 1])\n",
    "        \n",
    "            \n",
    "        # Return activity of output layer\n",
    "        return self.h[self.n_layers - 1]\n",
    "\n",
    "    def Evaluate(self, data):\n",
    "        '''\n",
    "            E = net.Evaluate(data)\n",
    "\n",
    "            Computes the average loss over the supplied dataset.\n",
    "\n",
    "            Inputs\n",
    "              data is a list of 2 arrays containing inputs and targets\n",
    "\n",
    "            Outputs\n",
    "              E is a scalar, the average loss\n",
    "        '''\n",
    "        total_loss = 0.\n",
    "        for x, t in zip(data[0], data[1]):\n",
    "            self.FeedForward(x)\n",
    "            total_loss += self.Loss(t)\n",
    "        return total_loss / len(data[0])\n",
    "\n",
    "    def ClassificationAccuracy(self, data):\n",
    "        '''\n",
    "            a = net.ClassificationAccuracy(data)\n",
    "            \n",
    "            Returns the fraction (between 0 and 1) of correct one-hot classifications\n",
    "            in the dataset.\n",
    "        '''\n",
    "        n_correct = 0\n",
    "        for x, t in zip(data[0], data[1]):\n",
    "            y = self.FeedForward(x)\n",
    "            yb = OneHot(y)\n",
    "            if np.argmax(yb)==np.argmax(t):\n",
    "                n_correct += 1\n",
    "        return float(n_correct) / len(data[0])\n",
    "\n",
    "    def CrossEntropy(self, t):\n",
    "        '''\n",
    "            E = net.CrossEntropy(t)\n",
    "\n",
    "            Evaluates the cross entropy loss function using t and the activity of the top layer.\n",
    "            To evaluate the network's performance on an input/output pair (x,t), use\n",
    "              net.FeedForward(x)\n",
    "              E = net.Loss(t)\n",
    "\n",
    "            Inputs\n",
    "              t is an array holding the target output\n",
    "\n",
    "            Outputs\n",
    "              E is the loss function for the given case\n",
    "        '''\n",
    "        E = 0.  # placeholder code\n",
    "        \n",
    "        # == YOUR CODE HERE ==\n",
    "        \n",
    "        for k in range(len(t)):\n",
    "            E += t[k] * np.log(self.h[self.n_layers - 1][k]) + \\\n",
    "                        (1 - t[k]) * np.log(1 - self.h[self.n_layers - 1][k])\n",
    "        \n",
    "        E = -E\n",
    "            \n",
    "        return E\n",
    "\n",
    "    def MSE(self, t):\n",
    "        '''\n",
    "            E = net.MSE(t)\n",
    "\n",
    "            Evaluates the MSE loss function using t and the activity of the top layer.\n",
    "            To evaluate the network's performance on an input/output pair (x,t), use\n",
    "              net.FeedForward(x)\n",
    "              E = net.Loss(t)\n",
    "\n",
    "            Inputs\n",
    "              t is an array holding the target output\n",
    "\n",
    "            Outputs\n",
    "              E is the loss function for the given case\n",
    "        '''\n",
    "        E = 0.  # placeholder code\n",
    "        \n",
    "        # == YOUR CODE HERE ==\n",
    "        for k in range(len(t)):\n",
    "            E += np.power(t[k] - self.h[self.n_layers - 1][k], 2)\n",
    "            \n",
    "        return E\n",
    "\n",
    "    def BackProp(self, t, lrate=0.05):\n",
    "        '''\n",
    "            Given a target t, updates the connection weights and biases using the\n",
    "            backpropagation algorithm.\n",
    "        '''\n",
    "        \n",
    "        # == YOUR CODE HERE ==\n",
    "        \n",
    "        #calculate the gradient\n",
    "        if self.classifier == True:\n",
    "            dEdz = self.h[self.n_layers - 1] - t\n",
    "        else:\n",
    "            dEdz = 2 * (self.h[self.n_layers - 1] - t)\n",
    "            \n",
    "                     \n",
    "        for k in range(self.n_layers - 1, 0, -1):\n",
    "            self.dEdW[k - 1] = np.outer(dEdz, self.h[k - 1])\n",
    "            self.dEdb[k] = dEdz\n",
    "            dEdz = np.dot(self.W[k - 1].T, dEdz) * self.h[k - 1] * (1 - self.h[k - 1])\n",
    "\n",
    "        #update weights\n",
    "        for k in range(self.n_layers - 1, 0, -1):\n",
    "            self.W[k - 1] += - lrate * self.dEdW[k - 1]\n",
    "            self.b[k] += - lrate * self.dEdb[k]\n",
    "\n",
    "    def Learn(self, data, lrate=0.05, epochs=1, progress=True):\n",
    "        '''\n",
    "            Network.Learn(data, lrate=0.05, epochs=1, progress=True)\n",
    "\n",
    "            Run through the dataset 'epochs' number of times, incrementing the\n",
    "            network weights for each training sample. For each epoch, it\n",
    "            shuffles the order of the samples.\n",
    "\n",
    "            Inputs\n",
    "              data is a list of 2 arrays, one for inputs, and one for targets\n",
    "              lrate is the learning rate (try 0.001 to 0.5)\n",
    "              epochs is the number of times to go through the training data\n",
    "              progress (Boolean) indicates whether to show a progress bar\n",
    "        '''\n",
    "        # Here is some useful code for displaying a progress bar\n",
    "        data_shuffled = list(zip(data[0],data[1]))\n",
    "        if progress:\n",
    "            fp = FloatProgress(min=0,max=100)  \n",
    "            display(fp)\n",
    "        \n",
    "        # == YOUR CODE HERE ==\n",
    "        \n",
    "        \n",
    "        for ep in range(epochs):\n",
    "            np.random.shuffle(data_shuffled)\n",
    "            for x, t in data_shuffled:\n",
    "                self.FeedForward(x)\n",
    "                self.BackProp(t, lrate)\n",
    "            \n",
    "            #if progress:\n",
    "            #  print('epochs: %d, loss: %f' % (ep, self.Evaluate(data)))\n",
    "                \n",
    "            if progress:\n",
    "                fp.value += 1 / epochs * 100\n",
    "        \n",
    "        # For the progress bar, simply increment fp.value by whatever you want.\n",
    "        # The progress bar will be full when fp.value = the max given in the\n",
    "        # FloatProgress call above.\n",
    "        \n",
    "        #fp.value += 1\n",
    "        "
   ]
  },
  {
   "cell_type": "markdown",
   "metadata": {
    "heading_collapsed": true
   },
   "source": [
    "# Classification"
   ]
  },
  {
   "cell_type": "markdown",
   "metadata": {
    "hidden": true
   },
   "source": [
    "## Create a Classification Dataset"
   ]
  },
  {
   "cell_type": "code",
   "execution_count": 69,
   "metadata": {
    "code_folding": [],
    "collapsed": true,
    "hidden": true
   },
   "outputs": [],
   "source": [
    "# 5 Classes in 8-Dimensional Space\n",
    "InputClasses = np.array([[1,0,1,0,0,1,1,0],\n",
    "                         [0,1,0,1,0,1,0,1],\n",
    "                         [0,1,1,0,1,0,0,1],\n",
    "                         [1,0,0,0,1,0,1,1],\n",
    "                         [1,0,0,1,0,1,0,1]], dtype=float)\n",
    "OutputClasses = np.array([[1,0,0,0,0],\n",
    "                          [0,1,0,0,0],\n",
    "                          [0,0,1,0,0],\n",
    "                          [0,0,0,1,0],\n",
    "                          [0,0,0,0,1]], dtype=float)\n",
    "n_input = np.shape(InputClasses)[1]\n",
    "n_output = np.shape(OutputClasses)[1]\n",
    "n_classes = np.shape(InputClasses)[0]\n",
    "\n",
    "# Create a training dataset\n",
    "n_samples = 100\n",
    "training_output = []\n",
    "training_input = []\n",
    "for idx in range(n_samples):\n",
    "    k = np.random.randint(n_classes)\n",
    "    x = InputClasses[k,:] + np.random.normal(size=n_input)\n",
    "    t = OutputClasses[k,:]\n",
    "    training_input.append(x)\n",
    "    training_output.append(t)\n",
    "\n",
    "# Create a test dataset\n",
    "n_samples = 100\n",
    "test_output = []\n",
    "test_input = []\n",
    "for idx in range(n_samples):\n",
    "    k = np.random.randint(n_classes)\n",
    "    x = InputClasses[k,:] + np.random.normal(size=n_input)\n",
    "    t = OutputClasses[k,:]\n",
    "    test_input.append(x)\n",
    "    test_output.append(t)\n",
    "\n",
    "train = [training_input, training_output]\n",
    "test = [test_input, test_output]"
   ]
  },
  {
   "cell_type": "markdown",
   "metadata": {
    "hidden": true
   },
   "source": [
    "## Neural Network Model"
   ]
  },
  {
   "cell_type": "code",
   "execution_count": 70,
   "metadata": {
    "collapsed": true,
    "hidden": true
   },
   "outputs": [],
   "source": [
    "# Create a Network\n",
    "net = Network([n_input, 10, n_output], type='classifier')\n"
   ]
  },
  {
   "cell_type": "code",
   "execution_count": 71,
   "metadata": {
    "hidden": true
   },
   "outputs": [
    {
     "name": "stdout",
     "output_type": "stream",
     "text": [
      "Cross Entropy = 3.41161463505\n",
      "     Accuracy = 17.0%\n"
     ]
    }
   ],
   "source": [
    "# Evaluate it before training\n",
    "CE = net.Evaluate(train)\n",
    "accuracy = net.ClassificationAccuracy(train)\n",
    "print('Cross Entropy = '+str(CE))\n",
    "print('     Accuracy = '+str(accuracy*100.)+'%')"
   ]
  },
  {
   "cell_type": "code",
   "execution_count": 72,
   "metadata": {
    "hidden": true
   },
   "outputs": [
    {
     "data": {
      "application/vnd.jupyter.widget-view+json": {
       "model_id": "4a2b9af7f93b429db4ec204f437fe1f1",
       "version_major": 2,
       "version_minor": 0
      },
      "text/plain": [
       "A Jupyter Widget"
      ]
     },
     "metadata": {},
     "output_type": "display_data"
    }
   ],
   "source": [
    "net.Learn([training_input, training_output], epochs=500, progress = True)"
   ]
  },
  {
   "cell_type": "markdown",
   "metadata": {
    "hidden": true
   },
   "source": [
    "## Evaluate it After Training"
   ]
  },
  {
   "cell_type": "code",
   "execution_count": 73,
   "metadata": {
    "hidden": true
   },
   "outputs": [
    {
     "name": "stdout",
     "output_type": "stream",
     "text": [
      "Cross Entropy = 0.120857034292\n",
      "     Accuracy = 100.0%\n"
     ]
    }
   ],
   "source": [
    "# On training dataset\n",
    "CE = net.Evaluate(train)\n",
    "accuracy = net.ClassificationAccuracy(train)\n",
    "print('Cross Entropy = '+str(CE))\n",
    "print('     Accuracy = '+str(accuracy*100.)+'%')"
   ]
  },
  {
   "cell_type": "code",
   "execution_count": 74,
   "metadata": {
    "hidden": true
   },
   "outputs": [
    {
     "name": "stdout",
     "output_type": "stream",
     "text": [
      "Cross Entropy = 5.4708498192\n",
      "     Accuracy = 48.0%\n"
     ]
    }
   ],
   "source": [
    "# On test dataset\n",
    "CE = net.Evaluate(test)\n",
    "accuracy = net.ClassificationAccuracy(test)\n",
    "print('Cross Entropy = '+str(CE))\n",
    "print('     Accuracy = '+str(accuracy*100.)+'%')"
   ]
  },
  {
   "cell_type": "markdown",
   "metadata": {
    "heading_collapsed": true
   },
   "source": [
    "# Regression"
   ]
  },
  {
   "cell_type": "markdown",
   "metadata": {
    "heading_collapsed": true,
    "hidden": true
   },
   "source": [
    "## Create a Regression Dataset"
   ]
  },
  {
   "cell_type": "code",
   "execution_count": 75,
   "metadata": {
    "code_folding": [],
    "collapsed": true,
    "hidden": true
   },
   "outputs": [],
   "source": [
    "# 1D -> 1D (linear mapping)\n",
    "n_input = 1\n",
    "n_output = 1\n",
    "slope = np.random.rand() - 0.5\n",
    "intercept = np.random.rand()*2. - 1.\n",
    "\n",
    "def myfunc(x):\n",
    "    return slope*x+intercept\n",
    "\n",
    "# Create a training dataset\n",
    "n_samples = 100\n",
    "training_output = []\n",
    "training_input = []\n",
    "xv = np.linspace(-1, 1, n_samples)\n",
    "for idx in range(n_samples):\n",
    "    #x = np.random.rand()*2. - 1.\n",
    "    x = xv[idx]\n",
    "    t = myfunc(x) + np.random.normal(scale=0.1)\n",
    "    training_input.append(np.array([x]))\n",
    "    training_output.append(np.array([t]))\n",
    "\n",
    "# Create a testing dataset\n",
    "n_samples = 100\n",
    "test_input = []\n",
    "test_output = []\n",
    "for idx in range(n_samples):\n",
    "    #x = np.random.rand()*2. - 1.\n",
    "    x = xv[idx] + np.random.normal(scale=0.1)\n",
    "    t = myfunc(x) + np.random.normal(scale=0.1)\n",
    "    test_input.append(np.array([x]))\n",
    "    test_output.append(np.array([t]))\n",
    "\n",
    "# Create a perfect dataset\n",
    "n_samples = 100\n",
    "perfect_input = []\n",
    "perfect_output = []\n",
    "for idx in range(n_samples):\n",
    "    #x = np.random.rand()*2. - 1.\n",
    "    x = test_input[idx]\n",
    "    t = myfunc(x[0])\n",
    "    perfect_input.append(np.array(x))\n",
    "    perfect_output.append(np.array([t]))\n",
    "    \n",
    "train = [training_input, training_output]\n",
    "test = [test_input, test_output]\n",
    "perfect = [perfect_input, perfect_output]"
   ]
  },
  {
   "cell_type": "markdown",
   "metadata": {
    "heading_collapsed": true,
    "hidden": true
   },
   "source": [
    "## Neural Network Model"
   ]
  },
  {
   "cell_type": "code",
   "execution_count": 76,
   "metadata": {
    "collapsed": true,
    "hidden": true
   },
   "outputs": [],
   "source": [
    "net = Network([1, 20, 1], type='regression')"
   ]
  },
  {
   "cell_type": "code",
   "execution_count": 77,
   "metadata": {
    "hidden": true
   },
   "outputs": [
    {
     "name": "stdout",
     "output_type": "stream",
     "text": [
      "MSE = 3.95749666612\n"
     ]
    }
   ],
   "source": [
    "# Evaluate it before training\n",
    "mse = net.Evaluate(train)\n",
    "print('MSE = '+str(mse))\n"
   ]
  },
  {
   "cell_type": "markdown",
   "metadata": {
    "hidden": true
   },
   "source": [
    "## Training"
   ]
  },
  {
   "cell_type": "code",
   "execution_count": 78,
   "metadata": {
    "hidden": true
   },
   "outputs": [
    {
     "data": {
      "application/vnd.jupyter.widget-view+json": {
       "model_id": "e330227eb37e4728b22bbc6cf70eeb56",
       "version_major": 2,
       "version_minor": 0
      },
      "text/plain": [
       "A Jupyter Widget"
      ]
     },
     "metadata": {},
     "output_type": "display_data"
    }
   ],
   "source": [
    "net.Learn(train, epochs = 500, progress = True)"
   ]
  },
  {
   "cell_type": "markdown",
   "metadata": {
    "hidden": true
   },
   "source": [
    "## Evaluate it After Training"
   ]
  },
  {
   "cell_type": "code",
   "execution_count": 79,
   "metadata": {
    "hidden": true
   },
   "outputs": [
    {
     "name": "stdout",
     "output_type": "stream",
     "text": [
      "Training MSE = 0.00877468331355\n"
     ]
    }
   ],
   "source": [
    "# On training dataset\n",
    "mse = net.Evaluate(train)\n",
    "print('Training MSE = '+str(mse))"
   ]
  },
  {
   "cell_type": "code",
   "execution_count": 80,
   "metadata": {
    "hidden": true
   },
   "outputs": [
    {
     "name": "stdout",
     "output_type": "stream",
     "text": [
      "Test MSE = 0.0121626483551\n"
     ]
    }
   ],
   "source": [
    "# On test dataset\n",
    "mse = net.Evaluate(test)\n",
    "print('Test MSE = '+str(mse))"
   ]
  },
  {
   "cell_type": "code",
   "execution_count": 81,
   "metadata": {
    "hidden": true
   },
   "outputs": [
    {
     "name": "stdout",
     "output_type": "stream",
     "text": [
      "Perfect MSE = 0.000910037501403\n"
     ]
    }
   ],
   "source": [
    "# On perfect dataset\n",
    "mse = net.Evaluate(perfect)\n",
    "print('Perfect MSE = '+str(mse))"
   ]
  },
  {
   "cell_type": "code",
   "execution_count": 82,
   "metadata": {
    "collapsed": true,
    "hidden": true
   },
   "outputs": [],
   "source": [
    "# Evaluate our model and the TRUE solution (since we know it)\n",
    "s = np.linspace(-1, 1, 200)\n",
    "y = [net.FeedForward([x]) for x in s]\n",
    "p = [myfunc(x) for x in s]"
   ]
  },
  {
   "cell_type": "code",
   "execution_count": 83,
   "metadata": {
    "hidden": true
   },
   "outputs": [
    {
     "data": {
      "image/png": "[encoded data removed]",
      "text/plain": [
       "<matplotlib.figure.Figure at 0x2e1600715f8>"
      ]
     },
     "metadata": {},
     "output_type": "display_data"
    }
   ],
   "source": [
    "# Plot the training data,\n",
    "# as well as out model and the true model\n",
    "plt.plot(s,y, 'r--')\n",
    "plt.plot(s,p, 'g:')\n",
    "plt.plot(training_input, training_output, 'bo')\n",
    "plt.xlabel('Input')\n",
    "plt.ylabel('Output');"
   ]
  },
  {
   "cell_type": "code",
   "execution_count": 84,
   "metadata": {
    "hidden": true
   },
   "outputs": [
    {
     "name": "stdout",
     "output_type": "stream",
     "text": [
      "[array([[  6.08943846e-03],\n",
      "       [  6.20142779e-05],\n",
      "       [ -7.36426324e-03],\n",
      "       [ -4.02745722e-03],\n",
      "       [  8.73478334e-03],\n",
      "       [  1.43536147e-02],\n",
      "       [  1.68182389e-02],\n",
      "       [  1.04919634e-02],\n",
      "       [ -3.43742592e-03],\n",
      "       [ -5.10204853e-03],\n",
      "       [ -1.64346705e-03],\n",
      "       [  3.01489613e-03],\n",
      "       [ -6.57000938e-03],\n",
      "       [  1.22322828e-02],\n",
      "       [ -1.01497478e-02],\n",
      "       [  1.58817204e-02],\n",
      "       [  2.46725822e-02],\n",
      "       [ -8.18125968e-03],\n",
      "       [ -6.63732348e-03],\n",
      "       [  9.42836839e-03]]), array([[-0.15537101, -0.06843523, -0.09471943, -0.17078743, -0.08573887,\n",
      "        -0.17964999, -0.07824375, -0.11183053, -0.21443417, -0.05635493,\n",
      "        -0.09883636, -0.09691166, -0.24654459, -0.09644854, -0.13614749,\n",
      "        -0.2151946 , -0.0683527 , -0.0302481 , -0.11807671, -0.09033815]])]\n",
      "[-0.29147246]\n"
     ]
    }
   ],
   "source": [
    "\n"
   ]
  },
  {
   "cell_type": "code",
   "execution_count": null,
   "metadata": {
    "collapsed": true
   },
   "outputs": [],
   "source": []
  }
 ],
 "metadata": {
  "kernelspec": {
   "display_name": "Python 3",
   "language": "python",
   "name": "python3"
  },
  "language_info": {
   "codemirror_mode": {
    "name": "ipython",
    "version": 3
   },
   "file_extension": ".py",
   "mimetype": "text/x-python",
   "name": "python",
   "nbconvert_exporter": "python",
   "pygments_lexer": "ipython3",
   "version": "3.6.3"
  }
 },
 "nbformat": 4,
 "nbformat_minor": 2
}
